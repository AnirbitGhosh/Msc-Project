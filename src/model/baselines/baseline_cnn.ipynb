{
 "cells": [
  {
   "cell_type": "code",
   "execution_count": 1,
   "metadata": {},
   "outputs": [
    {
     "name": "stderr",
     "output_type": "stream",
     "text": [
      "c:\\Users\\Anirbit\\anaconda3\\envs\\mscproj\\Lib\\site-packages\\tqdm\\auto.py:21: TqdmWarning: IProgress not found. Please update jupyter and ipywidgets. See https://ipywidgets.readthedocs.io/en/stable/user_install.html\n",
      "  from .autonotebook import tqdm as notebook_tqdm\n"
     ]
    }
   ],
   "source": [
    "import os\n",
    "import math\n",
    "from abc import abstractmethod\n",
    "\n",
    "from PIL import Image\n",
    "import requests\n",
    "import numpy as np\n",
    "import time\n",
    "import torch\n",
    "import torch.nn as nn\n",
    "import torch.nn.functional as F\n",
    "from torchvision import datasets, transforms\n",
    "from tqdm import tqdm\n",
    "import matplotlib.pyplot as plt\n",
    "from skimage.metrics import structural_similarity as ssim\n",
    "from torchvision import transforms, datasets\n",
    "from torch.utils.data import Dataset, DataLoader\n",
    "import pickle\n",
    "from PIL import Image\n",
    "import cv2\n",
    "\n",
    "%matplotlib inline"
   ]
  },
  {
   "cell_type": "code",
   "execution_count": 2,
   "metadata": {},
   "outputs": [],
   "source": [
    "os.environ['CUDA_LAUNCH_BLOCKING'] = '1'"
   ]
  },
  {
   "cell_type": "markdown",
   "metadata": {},
   "source": [
    "### Baseline CNN model "
   ]
  },
  {
   "cell_type": "code",
   "execution_count": 3,
   "metadata": {},
   "outputs": [],
   "source": [
    "class Wildfire_CNN(nn.Module):\n",
    "    def __init__(self):\n",
    "        super(Wildfire_CNN, self).__init__()\n",
    "        \n",
    "        # Encoder\n",
    "        self.encoder = nn.Sequential(\n",
    "            nn.Conv2d(1, 64, kernel_size=3, padding=1),\n",
    "            nn.ReLU(inplace=True),\n",
    "            nn.MaxPool2d(kernel_size=2, stride=2),\n",
    "            \n",
    "            nn.Conv2d(64, 128, kernel_size=3, padding=1),\n",
    "            nn.ReLU(inplace=True),\n",
    "            nn.MaxPool2d(kernel_size=2, stride=2),\n",
    "            \n",
    "            nn.Conv2d(128, 256, kernel_size=3, padding=1),\n",
    "            nn.ReLU(inplace=True),\n",
    "            nn.MaxPool2d(kernel_size=2, stride=2)\n",
    "        )\n",
    "        \n",
    "        # Bottleneck\n",
    "        self.bottleneck = nn.Sequential(\n",
    "            nn.Conv2d(256, 512, kernel_size=3, padding=1),\n",
    "            nn.ReLU(inplace=True),\n",
    "            nn.Dropout(0.5),  # Dropout with a 50% drop probability\n",
    "            nn.Conv2d(512, 512, kernel_size=3, padding=1),\n",
    "            nn.ReLU(inplace=True)\n",
    "        )\n",
    "        \n",
    "        # Decoder\n",
    "        self.decoder = nn.Sequential(\n",
    "            nn.ConvTranspose2d(512, 256, kernel_size=2, stride=2),\n",
    "            nn.ReLU(inplace=True),\n",
    "            \n",
    "            nn.ConvTranspose2d(256, 128, kernel_size=2, stride=2),\n",
    "            nn.ReLU(inplace=True),\n",
    "            \n",
    "            nn.ConvTranspose2d(128, 64, kernel_size=2, stride=2),\n",
    "            nn.ReLU(inplace=True),\n",
    "            \n",
    "            nn.Conv2d(64, 1, kernel_size=3, padding=1),\n",
    "            nn.Sigmoid()\n",
    "        )\n",
    "        \n",
    "    def forward(self, x):\n",
    "        x = self.encoder(x)\n",
    "        x = self.bottleneck(x)\n",
    "        x = self.decoder(x)\n",
    "        return x"
   ]
  },
  {
   "cell_type": "code",
   "execution_count": 4,
   "metadata": {},
   "outputs": [],
   "source": [
    "class ConditionalImageDataset(Dataset):\n",
    "    def __init__(self, data_dir, transform=None, conditional_offset=5):\n",
    "        self.data_dir = data_dir\n",
    "        self.transform = transform\n",
    "        self.conditional_offset = conditional_offset\n",
    "        self.data = []\n",
    "        self._load_data()\n",
    "\n",
    "    def _load_data(self):\n",
    "        files = sorted([os.path.join(self.data_dir, f) for f in os.listdir(self.data_dir) if f.endswith('.mpy')])\n",
    "        for file in files:\n",
    "            with open(file, 'rb') as f:\n",
    "                images = pickle.load(f)\n",
    "                if isinstance(images, list):\n",
    "                    images = np.array(images)\n",
    "                self.data.append(images)\n",
    "\n",
    "    def __len__(self):\n",
    "        return sum(len(images) for images in self.data) - len(self.data) * self.conditional_offset\n",
    "\n",
    "    def __getitem__(self, idx):\n",
    "        collection_idx, image_idx = self._get_indices(idx)\n",
    "        image = self.data[collection_idx][image_idx]\n",
    "        cond_image = self.data[collection_idx][image_idx - self.conditional_offset]\n",
    "\n",
    "        if self.transform:\n",
    "            image = self.transform(image)\n",
    "            cond_image = self.transform(cond_image)\n",
    "\n",
    "        return image, cond_image\n",
    "\n",
    "    def _get_indices(self, idx):\n",
    "        cumulative_length = 0\n",
    "        for collection_idx, images in enumerate(self.data):\n",
    "            collection_length = len(images) - self.conditional_offset\n",
    "            if idx < cumulative_length + collection_length:\n",
    "                return collection_idx, idx - cumulative_length + self.conditional_offset\n",
    "            cumulative_length += collection_length\n",
    "        raise IndexError(f\"Index {idx} out of range\")\n",
    "    \n",
    "class CondSeqImageDataset(Dataset):\n",
    "    def __init__(self, data_dir, transform=None, conditional_offset=5):\n",
    "        self.data_dir = data_dir\n",
    "        self.transform = transform\n",
    "        self.conditional_offset = conditional_offset\n",
    "        self.cond_images = []\n",
    "        self.target_images = []\n",
    "        self._load_data()\n",
    "\n",
    "    def _load_data(self):\n",
    "        files = sorted([os.path.join(self.data_dir, f) for f in os.listdir(self.data_dir) if f.endswith('.mpy')])\n",
    "        for file in files:\n",
    "            with open(file, 'rb') as f:\n",
    "                images = pickle.load(f)\n",
    "                if isinstance(images, list):\n",
    "                    images = np.array(images)\n",
    "                    \n",
    "                for img_idx in range(len(images) - self.conditional_offset):\n",
    "                    self.cond_images.append(images[img_idx])\n",
    "                    self.target_images.append(images[img_idx + self.conditional_offset])\n",
    "\n",
    "    def __len__(self):\n",
    "        return len(self.cond_images)\n",
    "\n",
    "    def __getitem__(self, idx):\n",
    "        # collection_idx, image_idx = self._get_indices(idx)\n",
    "        cond_image = self.cond_images[idx]\n",
    "        image = self.target_images[idx]\n",
    "\n",
    "        if self.transform:\n",
    "            image = self.transform(image)\n",
    "            cond_image = self.transform(cond_image)\n",
    "\n",
    "        return image, cond_image\n",
    "    \n",
    "    \n",
    "# Define weighted BCELoss function\n",
    "class WeightedBCELoss(nn.Module):\n",
    "    def __init__(self):\n",
    "        super(WeightedBCELoss, self).__init__()\n",
    "    \n",
    "    def forward(self, input, target, weight_mask):\n",
    "        return F.binary_cross_entropy(input, target, weight=weight_mask)\n",
    "    \n",
    "def calculate_weight_mask(target):\n",
    "    # Create a weight mask where the pixels with value 1 have higher weight\n",
    "    weight_for_ones = 5.0  # This can be adjusted based on your dataset\n",
    "    weight_for_zeros = 1.0  # This ensures background is also considered\n",
    "    weight_mask = torch.where(target > 0.5, torch.tensor(weight_for_ones), torch.tensor(weight_for_zeros))\n",
    "    return weight_mask"
   ]
  },
  {
   "cell_type": "code",
   "execution_count": 5,
   "metadata": {},
   "outputs": [
    {
     "name": "stdout",
     "output_type": "stream",
     "text": [
      "cuda\n"
     ]
    }
   ],
   "source": [
    "batch_size = 32\n",
    "\n",
    "transform = transforms.Compose([\n",
    "    transforms.ToTensor(),\n",
    "    # transforms.Normalize(mean=[0.5], std=[0.5]),\n",
    "    # transforms.Resize(64)\n",
    "])\n",
    "\n",
    "DATA_DIR = \"C:/Users/Anirbit/Desktop/MSc/Ind Project/Msc-Project/data/simulated_bin_frames\"\n",
    "\n",
    "# MNIST DATA\n",
    "dataset = CondSeqImageDataset(DATA_DIR, transform=transform)\n",
    "\n",
    "# Split dataset into training and testing\n",
    "train_size = int(0.9 * len(dataset))\n",
    "test_size = len(dataset) - train_size\n",
    "train_dataset, test_dataset = torch.utils.data.random_split(dataset, [train_size, test_size])\n",
    "\n",
    "# Create DataLoader\n",
    "train_loader = torch.utils.data.DataLoader(train_dataset, batch_size=batch_size, shuffle=True)\n",
    "test_loader = torch.utils.data.DataLoader(test_dataset, batch_size=batch_size, shuffle=True)\n",
    "\n",
    "device = \"cuda\" if torch.cuda.is_available() else \"cpu\"\n",
    "print(device)\n",
    "model = Wildfire_CNN()\n",
    "model.to(device)\n",
    "\n",
    "# Define loss function and optimizer\n",
    "# Define the weight for the non-blank areas\n",
    "weight = 0.9 # You can adjust this value\n",
    "\n",
    "# Use this loss function during training\n",
    "criterion = WeightedBCELoss()\n",
    "optimizer = torch.optim.AdamW(model.parameters(), lr=0.001)"
   ]
  },
  {
   "cell_type": "code",
   "execution_count": 6,
   "metadata": {},
   "outputs": [],
   "source": [
    "def train(model, dataloader, criterion, optimizer, num_epochs=10):\n",
    "    model.train()\n",
    "    \n",
    "    for epoch in range(num_epochs):\n",
    "        running_loss = 0.0\n",
    "        \n",
    "        for targets, inputs in dataloader:\n",
    "            optimizer.zero_grad()\n",
    "            \n",
    "            targets = targets.float().to(device)\n",
    "            inputs = inputs.float().to(device)\n",
    "            \n",
    "            # Compute weight mask based on inputs (wildfire grid)\n",
    "            weight_mask = calculate_weight_mask(targets) #1.0 - inputs\n",
    "            # weight_mask = torch.clamp(weight_mask, 0, 1)\n",
    "            \n",
    "            outputs = model(inputs)\n",
    "            # print(f\"outputs: {outputs.shape}, inputs: {inputs.shape}, weight_mask: {weight_mask.shape}, targets: {targets.shape}\")\n",
    "            loss = criterion(outputs, targets, weight_mask)\n",
    "            loss.backward()\n",
    "            optimizer.step()\n",
    "            \n",
    "            running_loss += loss.item()\n",
    "        \n",
    "        print(f\"Epoch [{epoch+1}/{num_epochs}], Loss: {running_loss/len(dataloader)}\")"
   ]
  },
  {
   "cell_type": "code",
   "execution_count": 7,
   "metadata": {},
   "outputs": [
    {
     "name": "stderr",
     "output_type": "stream",
     "text": [
      "c:\\Users\\Anirbit\\anaconda3\\envs\\mscproj\\Lib\\site-packages\\torch\\nn\\modules\\conv.py:456: UserWarning: Plan failed with a cudnnException: CUDNN_BACKEND_EXECUTION_PLAN_DESCRIPTOR: cudnnFinalize Descriptor Failed cudnn_status: CUDNN_STATUS_NOT_SUPPORTED (Triggered internally at ..\\aten\\src\\ATen\\native\\cudnn\\Conv_v8.cpp:919.)\n",
      "  return F.conv2d(input, weight, bias, self.stride,\n"
     ]
    },
    {
     "name": "stdout",
     "output_type": "stream",
     "text": [
      "Epoch [1/50], Loss: 0.10330953667937862\n",
      "Epoch [2/50], Loss: 0.06324621226409036\n",
      "Epoch [3/50], Loss: 0.05609485294705177\n",
      "Epoch [4/50], Loss: 0.05217464410333554\n",
      "Epoch [5/50], Loss: 0.04992181517766409\n",
      "Epoch [6/50], Loss: 0.04794637251963124\n",
      "Epoch [7/50], Loss: 0.045821656570085696\n",
      "Epoch [8/50], Loss: 0.0445968519357779\n",
      "Epoch [9/50], Loss: 0.04323168620202355\n",
      "Epoch [10/50], Loss: 0.04212720523548635\n",
      "Epoch [11/50], Loss: 0.04053709155910812\n",
      "Epoch [12/50], Loss: 0.039248483564475134\n",
      "Epoch [13/50], Loss: 0.037815742424172814\n",
      "Epoch [14/50], Loss: 0.036952163838732864\n",
      "Epoch [15/50], Loss: 0.03571799051864029\n",
      "Epoch [16/50], Loss: 0.03471669628863086\n",
      "Epoch [17/50], Loss: 0.033797730515176934\n",
      "Epoch [18/50], Loss: 0.03247243867772168\n",
      "Epoch [19/50], Loss: 0.03176826435048574\n",
      "Epoch [20/50], Loss: 0.03077161479829612\n",
      "Epoch [21/50], Loss: 0.030030752066522837\n",
      "Epoch [22/50], Loss: 0.029266724495384932\n",
      "Epoch [23/50], Loss: 0.028692287141324786\n",
      "Epoch [24/50], Loss: 0.02767797932249463\n",
      "Epoch [25/50], Loss: 0.027130028142448144\n",
      "Epoch [26/50], Loss: 0.026586085917666483\n",
      "Epoch [27/50], Loss: 0.02605697072234658\n",
      "Epoch [28/50], Loss: 0.02567093520341397\n",
      "Epoch [29/50], Loss: 0.025306497188505684\n",
      "Epoch [30/50], Loss: 0.02460345356411773\n",
      "Epoch [31/50], Loss: 0.02443500605778177\n",
      "Epoch [32/50], Loss: 0.02383734432150614\n",
      "Epoch [33/50], Loss: 0.023548181248184346\n",
      "Epoch [34/50], Loss: 0.023348582233191948\n",
      "Epoch [35/50], Loss: 0.022857584546968977\n",
      "Epoch [36/50], Loss: 0.022595783867718766\n",
      "Epoch [37/50], Loss: 0.022349098366265897\n",
      "Epoch [38/50], Loss: 0.022203396139578162\n",
      "Epoch [39/50], Loss: 0.021736476209535487\n",
      "Epoch [40/50], Loss: 0.02134527839605489\n",
      "Epoch [41/50], Loss: 0.02132650565629675\n",
      "Epoch [42/50], Loss: 0.02107441233320965\n",
      "Epoch [43/50], Loss: 0.02085131282423804\n",
      "Epoch [44/50], Loss: 0.020542023910906926\n",
      "Epoch [45/50], Loss: 0.02040812529963375\n",
      "Epoch [46/50], Loss: 0.02016766988385416\n",
      "Epoch [47/50], Loss: 0.02002478834524115\n",
      "Epoch [48/50], Loss: 0.019802409217591393\n",
      "Epoch [49/50], Loss: 0.019651848906695277\n",
      "Epoch [50/50], Loss: 0.019414560461054903\n"
     ]
    }
   ],
   "source": [
    "train(model, train_loader, criterion, optimizer, num_epochs=50)"
   ]
  },
  {
   "cell_type": "code",
   "execution_count": 8,
   "metadata": {},
   "outputs": [],
   "source": [
    "save_path = \"C:/Users/Anirbit/Desktop/MSc/Ind Project/Msc-Project/results/ckpts/baseline_cnn_64x64_simData1000samples.pt\"\n",
    "torch.save(model.state_dict(), save_path)"
   ]
  },
  {
   "cell_type": "code",
   "execution_count": 9,
   "metadata": {},
   "outputs": [
    {
     "data": {
      "text/plain": [
       "Wildfire_CNN(\n",
       "  (encoder): Sequential(\n",
       "    (0): Conv2d(1, 64, kernel_size=(3, 3), stride=(1, 1), padding=(1, 1))\n",
       "    (1): ReLU(inplace=True)\n",
       "    (2): MaxPool2d(kernel_size=2, stride=2, padding=0, dilation=1, ceil_mode=False)\n",
       "    (3): Conv2d(64, 128, kernel_size=(3, 3), stride=(1, 1), padding=(1, 1))\n",
       "    (4): ReLU(inplace=True)\n",
       "    (5): MaxPool2d(kernel_size=2, stride=2, padding=0, dilation=1, ceil_mode=False)\n",
       "    (6): Conv2d(128, 256, kernel_size=(3, 3), stride=(1, 1), padding=(1, 1))\n",
       "    (7): ReLU(inplace=True)\n",
       "    (8): MaxPool2d(kernel_size=2, stride=2, padding=0, dilation=1, ceil_mode=False)\n",
       "  )\n",
       "  (bottleneck): Sequential(\n",
       "    (0): Conv2d(256, 512, kernel_size=(3, 3), stride=(1, 1), padding=(1, 1))\n",
       "    (1): ReLU(inplace=True)\n",
       "    (2): Dropout(p=0.5, inplace=False)\n",
       "    (3): Conv2d(512, 512, kernel_size=(3, 3), stride=(1, 1), padding=(1, 1))\n",
       "    (4): ReLU(inplace=True)\n",
       "  )\n",
       "  (decoder): Sequential(\n",
       "    (0): ConvTranspose2d(512, 256, kernel_size=(2, 2), stride=(2, 2))\n",
       "    (1): ReLU(inplace=True)\n",
       "    (2): ConvTranspose2d(256, 128, kernel_size=(2, 2), stride=(2, 2))\n",
       "    (3): ReLU(inplace=True)\n",
       "    (4): ConvTranspose2d(128, 64, kernel_size=(2, 2), stride=(2, 2))\n",
       "    (5): ReLU(inplace=True)\n",
       "    (6): Conv2d(64, 1, kernel_size=(3, 3), stride=(1, 1), padding=(1, 1))\n",
       "    (7): Sigmoid()\n",
       "  )\n",
       ")"
      ]
     },
     "execution_count": 9,
     "metadata": {},
     "output_type": "execute_result"
    }
   ],
   "source": [
    "load_model = Wildfire_CNN()\n",
    "load_model.load_state_dict(torch.load(save_path))\n",
    "load_model.to(device)"
   ]
  },
  {
   "cell_type": "code",
   "execution_count": 10,
   "metadata": {},
   "outputs": [],
   "source": [
    "# Function to calculate MSE and SSIM\n",
    "def calculate_metrics(output, target):\n",
    "    output_np = output.squeeze().detach().cpu().numpy()\n",
    "    target_np = target.squeeze().detach().cpu().numpy()\n",
    "    \n",
    "    mse_value = np.mean((output_np - target_np) ** 2)\n",
    "    ssim_value = ssim(output_np, target_np, data_range=target_np.max() - target_np.min())\n",
    "    \n",
    "    return mse_value, ssim_value\n",
    "\n",
    "# Inference function\n",
    "def evaluate_model(model, dataloader):\n",
    "    model.eval()\n",
    "    total_mse = 0.0\n",
    "    total_ssim = 0.0\n",
    "    num_samples = 0\n",
    "    \n",
    "    with torch.no_grad():\n",
    "        for targets, inputs in dataloader:\n",
    "            targets = targets.float().to(device)\n",
    "            inputs = inputs.float().to(device)\n",
    "            \n",
    "            outputs = model(inputs)\n",
    "            \n",
    "            mse, ssim_val = calculate_metrics(outputs, targets)\n",
    "            total_mse += mse * inputs.size(0)\n",
    "            total_ssim += ssim_val * inputs.size(0)\n",
    "            num_samples += inputs.size(0)\n",
    "    \n",
    "    avg_mse = total_mse / num_samples\n",
    "    avg_ssim = total_ssim / num_samples\n",
    "    \n",
    "    print(f\"Average MSE: {avg_mse:.4f}, Average SSIM: {avg_ssim:.4f}\")"
   ]
  },
  {
   "cell_type": "code",
   "execution_count": 11,
   "metadata": {},
   "outputs": [
    {
     "name": "stdout",
     "output_type": "stream",
     "text": [
      "Average MSE: 0.0051, Average SSIM: 0.9264\n"
     ]
    }
   ],
   "source": [
    "evaluate_model(load_model, test_loader)"
   ]
  },
  {
   "cell_type": "code",
   "execution_count": 12,
   "metadata": {},
   "outputs": [
    {
     "name": "stdout",
     "output_type": "stream",
     "text": [
      "[0. 1.] [4077   19]\n"
     ]
    },
    {
     "data": {
      "image/png": "[encoded data removed]",
      "text/plain": [
       "<Figure size 1500x500 with 3 Axes>"
      ]
     },
     "metadata": {},
     "output_type": "display_data"
    },
    {
     "name": "stdout",
     "output_type": "stream",
     "text": [
      "[0. 1.] [4045   51]\n"
     ]
    },
    {
     "data": {
      "image/png": "[encoded data removed]",
      "text/plain": [
       "<Figure size 1500x500 with 3 Axes>"
      ]
     },
     "metadata": {},
     "output_type": "display_data"
    },
    {
     "name": "stdout",
     "output_type": "stream",
     "text": [
      "[0. 1.] [4078   18]\n"
     ]
    },
    {
     "data": {
      "image/png": "[encoded data removed]",
      "text/plain": [
       "<Figure size 1500x500 with 3 Axes>"
      ]
     },
     "metadata": {},
     "output_type": "display_data"
    },
    {
     "name": "stdout",
     "output_type": "stream",
     "text": [
      "[0. 1.] [4080   16]\n"
     ]
    },
    {
     "data": {
      "image/png": "[encoded data removed]",
      "text/plain": [
       "<Figure size 1500x500 with 3 Axes>"
      ]
     },
     "metadata": {},
     "output_type": "display_data"
    },
    {
     "name": "stdout",
     "output_type": "stream",
     "text": [
      "[0. 1.] [4066   30]\n"
     ]
    },
    {
     "data": {
      "image/png": "[encoded data removed]",
      "text/plain": [
       "<Figure size 1500x500 with 3 Axes>"
      ]
     },
     "metadata": {},
     "output_type": "display_data"
    },
    {
     "name": "stdout",
     "output_type": "stream",
     "text": [
      "[0. 1.] [4074   22]\n"
     ]
    },
    {
     "data": {
      "image/png": "[encoded data removed]",
      "text/plain": [
       "<Figure size 1500x500 with 3 Axes>"
      ]
     },
     "metadata": {},
     "output_type": "display_data"
    },
    {
     "name": "stdout",
     "output_type": "stream",
     "text": [
      "[0. 1.] [4040   56]\n"
     ]
    },
    {
     "data": {
      "image/png": "[encoded data removed]",
      "text/plain": [
       "<Figure size 1500x500 with 3 Axes>"
      ]
     },
     "metadata": {},
     "output_type": "display_data"
    },
    {
     "name": "stdout",
     "output_type": "stream",
     "text": [
      "[0. 1.] [4080   16]\n"
     ]
    },
    {
     "data": {
      "image/png": "[encoded data removed]",
      "text/plain": [
       "<Figure size 1500x500 with 3 Axes>"
      ]
     },
     "metadata": {},
     "output_type": "display_data"
    },
    {
     "name": "stdout",
     "output_type": "stream",
     "text": [
      "[0. 1.] [3990  106]\n"
     ]
    },
    {
     "data": {
      "image/png": "[encoded data removed]",
      "text/plain": [
       "<Figure size 1500x500 with 3 Axes>"
      ]
     },
     "metadata": {},
     "output_type": "display_data"
    },
    {
     "name": "stdout",
     "output_type": "stream",
     "text": [
      "[0. 1.] [4079   17]\n"
     ]
    },
    {
     "data": {
      "image/png": "[encoded data removed]",
      "text/plain": [
       "<Figure size 1500x500 with 3 Axes>"
      ]
     },
     "metadata": {},
     "output_type": "display_data"
    }
   ],
   "source": [
    "# Define the visualization function\n",
    "def visualize_predictions(model, dataloader, num_images=5):\n",
    "    model.eval()\n",
    "    images_shown = 0\n",
    "    \n",
    "    with torch.no_grad():\n",
    "        for targets, inputs in dataloader:\n",
    "            inputs = inputs.float().to(device)\n",
    "            targets = targets.float().to(device)\n",
    "            \n",
    "            outputs = model(inputs)\n",
    "            \n",
    "            for i in range(inputs.size(0)):\n",
    "                if images_shown >= num_images:\n",
    "                    break\n",
    "                \n",
    "                input_image = inputs[i].squeeze().cpu().numpy()\n",
    "                unique_values, counts = np.unique(input_image, return_counts=True)\n",
    "                print(unique_values, counts)\n",
    "                target_image = targets[i].squeeze().cpu().numpy()\n",
    "                output_image = outputs[i].squeeze().cpu().numpy()\n",
    "                \n",
    "                fig, axes = plt.subplots(1, 3, figsize=(15, 5))\n",
    "                axes[0].imshow(input_image, cmap='gray')\n",
    "                axes[0].set_title('Input Image')\n",
    "                axes[0].axis('off')\n",
    "                \n",
    "                axes[1].imshow(target_image, cmap='gray')\n",
    "                axes[1].set_title('Ground Truth')\n",
    "                axes[1].axis('off')\n",
    "                \n",
    "                axes[2].imshow(output_image, cmap='gray')\n",
    "                axes[2].set_title('Predicted Image')\n",
    "                axes[2].axis('off')\n",
    "                \n",
    "                plt.show()\n",
    "                \n",
    "                images_shown += 1\n",
    "            \n",
    "            if images_shown >= num_images:\n",
    "                break\n",
    "\n",
    "visualize_predictions(model, test_loader, num_images=10)"
   ]
  },
  {
   "cell_type": "code",
   "execution_count": null,
   "metadata": {},
   "outputs": [],
   "source": []
  }
 ],
 "metadata": {
  "kernelspec": {
   "display_name": "mscproj",
   "language": "python",
   "name": "python3"
  },
  "language_info": {
   "codemirror_mode": {
    "name": "ipython",
    "version": 3
   },
   "file_extension": ".py",
   "mimetype": "text/x-python",
   "name": "python",
   "nbconvert_exporter": "python",
   "pygments_lexer": "ipython3",
   "version": "3.12.3"
  }
 },
 "nbformat": 4,
 "nbformat_minor": 2
}
